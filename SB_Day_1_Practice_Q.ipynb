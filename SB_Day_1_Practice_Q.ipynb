{
  "nbformat": 4,
  "nbformat_minor": 0,
  "metadata": {
    "colab": {
      "name": "SB-Day-1_Practice_Q.ipynb",
      "provenance": [],
      "collapsed_sections": [],
      "toc_visible": true,
      "include_colab_link": true
    },
    "kernelspec": {
      "name": "ir",
      "display_name": "R"
    },
    "language_info": {
      "name": "R"
    }
  },
  "cells": [
    {
      "cell_type": "markdown",
      "metadata": {
        "id": "view-in-github",
        "colab_type": "text"
      },
      "source": [
        "<a href=\"https://colab.research.google.com/github/sawleen/SG_private_property_prices/blob/main/SB_Day_1_Practice_Q.ipynb\" target=\"_parent\"><img src=\"https://colab.research.google.com/assets/colab-badge.svg\" alt=\"Open In Colab\"/></a>"
      ]
    },
    {
      "cell_type": "markdown",
      "metadata": {
        "id": "iglpHMzS4ol2"
      },
      "source": [
        "# Statistics Bootcamp Day-1\n",
        "# Additional Exercises"
      ]
    },
    {
      "cell_type": "markdown",
      "metadata": {
        "id": "GKIVlJs1Z7zh"
      },
      "source": [
        "## Use the Link below to create more R notebooks\n",
        "### Note: do not forget to save your work in your google drive\n",
        "\n",
        "[Use R on Google Colab!](https://colab.research.google.com/notebook#create=true&language=r)"
      ]
    },
    {
      "cell_type": "markdown",
      "metadata": {
        "id": "mPHhTEnFbLPD"
      },
      "source": [
        "\n",
        "# Provide documented code solutions for the questions given below.\n",
        "### Complete and save it with your full name\n",
        "### Submit this code file with the below details filled in:\n",
        "## Name of student:\n",
        "## Course name: Statistics bootcamp (2021 run)"
      ]
    },
    {
      "cell_type": "code",
      "metadata": {
        "id": "yB7QwJsXa-cV",
        "colab": {
          "base_uri": "https://localhost:8080/",
          "height": 266
        },
        "outputId": "eec1f0de-d835-458b-de0c-82ed2f09e3b3"
      },
      "source": [
        "# R version\n",
        "version"
      ],
      "execution_count": null,
      "outputs": [
        {
          "output_type": "display_data",
          "data": {
            "text/plain": [
              "               _                           \n",
              "platform       x86_64-pc-linux-gnu         \n",
              "arch           x86_64                      \n",
              "os             linux-gnu                   \n",
              "system         x86_64, linux-gnu           \n",
              "status                                     \n",
              "major          4                           \n",
              "minor          1.0                         \n",
              "year           2021                        \n",
              "month          05                          \n",
              "day            18                          \n",
              "svn rev        80317                       \n",
              "language       R                           \n",
              "version.string R version 4.1.0 (2021-05-18)\n",
              "nickname       Camp Pontanezen             "
            ]
          },
          "metadata": {
            "tags": []
          }
        }
      ]
    },
    {
      "cell_type": "code",
      "metadata": {
        "id": "bgtgFxmMZ4Wo"
      },
      "source": [
        "install.packages('pacman')"
      ],
      "execution_count": null,
      "outputs": []
    },
    {
      "cell_type": "code",
      "metadata": {
        "id": "yh4Nd8Hd4Gc3"
      },
      "source": [
        "pacman::p_load(tidyverse, caret, corrplot, caTools) # might take a while in colab"
      ],
      "execution_count": null,
      "outputs": []
    },
    {
      "cell_type": "markdown",
      "metadata": {
        "id": "AHdoFOOEdbEp"
      },
      "source": [
        "## Q-1\n",
        "Generate a data frame with probabilities of fraud for 50 transactions using a random sample from a uniform distribution [runif()]. set seed: set.seed(10). If probability is more than 0.5 then label it ‘Fraud’ else ‘Not Fraud’ and store the result in new column ‘Is_Fraud’. Count how many frauds and how many are labelled as not frauds.\n"
      ]
    },
    {
      "cell_type": "code",
      "metadata": {
        "id": "DclG_S1ldbQx"
      },
      "source": [
        "### your code below this\n",
        "### document it to aid understanding\n",
        "\n",
        "### Generate data frame\n",
        "set.seed(10)\n",
        "### Generate probabilities for 50 transactions\n",
        "data<-runif(50)\n",
        "### Label 'Fraud' if prob > 0.5, if not label as 'Not Fraud'\n",
        "df<-as.data.frame(data)\n",
        "head(df)"
      ],
      "execution_count": null,
      "outputs": []
    },
    {
      "cell_type": "markdown",
      "metadata": {
        "id": "KGDmYsrfdbIy"
      },
      "source": [
        "## Q-2\n",
        "\n",
        "Given a data frame of survey responses to 7 questions from 5 respondents on a scale of 1-5. Your task is to clean the data:\n",
        "  \n",
        "\n",
        "1.   replace negative values or values > 5 with 0\n",
        "2.   standardize each column using z-transformation given in a helper function below\n",
        "\n",
        "The expected input-output are also given in the image below\n",
        "\n",
        "<img src=\"https://drive.google.com/uc?id=1Xkw4h_xHnv2AUh8-36uyUyFwqQuTb3_j\" alt=\"image\" \n",
        "    width=\"800\" \n",
        "    height=\"400\" class=\"center\">\n"
      ]
    },
    {
      "cell_type": "code",
      "metadata": {
        "id": "ahQxKU4RfftM"
      },
      "source": [
        "responses =  # create your input dataframe here"
      ],
      "execution_count": null,
      "outputs": []
    },
    {
      "cell_type": "code",
      "metadata": {
        "id": "463wb7pMl-Zb"
      },
      "source": [
        "## code your solution\n"
      ],
      "execution_count": null,
      "outputs": []
    },
    {
      "cell_type": "code",
      "metadata": {
        "id": "FacoxC0EffxU"
      },
      "source": [
        ""
      ],
      "execution_count": null,
      "outputs": []
    },
    {
      "cell_type": "markdown",
      "metadata": {
        "id": "mOxUho9sM3Mf"
      },
      "source": [
        "## Q-3\n",
        "\n",
        "### Extract data\n",
        "\n",
        "Zack received a set of 8 contacts of potential leads to call for marketing. The data needs some pre-processing before it can be stored in database in a uniform format.\n",
        "A uniform format here is simply 10 numeric digits for a phone number withou any non-numeric character in it. The vector contact is given to you below. Use string operations (from rebus) package for further processing the data to get the first phone number for each lead. "
      ]
    },
    {
      "cell_type": "code",
      "metadata": {
        "id": "0Ep-kw9QM3uC"
      },
      "source": [
        "contacts = c(\" 219 733 8965\",  \n",
        "      \"387 287 6718\", \"543.355.3679\", \n",
        "      \"233.398.9187  \", \"482 952 3315\",\n",
        "      \"ph:2399238115\", \n",
        "      \"Work: 579-499-7527\")\n",
        "contacts"
      ],
      "execution_count": null,
      "outputs": []
    },
    {
      "cell_type": "code",
      "metadata": {
        "id": "K0xKbaGixLWj"
      },
      "source": [
        "# write a pattern to get the phone numbers out in a dataframe from the vector 'contacts' given in the question\n",
        "# some string handling examples are given below to get you started\n",
        "# write your code here\n",
        "\n"
      ],
      "execution_count": null,
      "outputs": []
    },
    {
      "cell_type": "code",
      "metadata": {
        "id": "mu1lDh84xF9V"
      },
      "source": [
        "## Some string handling examples\n",
        "\n",
        "# you can identify a digit using pattern key DGT\n",
        "print(DGT)\n",
        "# a alphabet\n",
        "print(ALPHA)\n",
        "# a word\n",
        "print(WRD)\n",
        "# a space\n",
        "print(SPC)\n",
        "\n",
        "\n",
        "# you can replace a pattern in a string using functions such as str_replace (str_replace_all)\n",
        "fruits = c(\"one apple\", \"two pears\", \"three bananas\")\n",
        "\n",
        "pattern = char_class('aeiou')\n",
        "\n",
        "print(pattern)\n",
        "print(str_replace_all(fruits, pattern, \"-\"))"
      ],
      "execution_count": null,
      "outputs": []
    },
    {
      "cell_type": "code",
      "metadata": {
        "id": "TXb8VUxGxGE1"
      },
      "source": [
        "## Some string handling examples\n",
        "# you can match a pattern in a string using functions such as str_match (str_match_all)\n",
        "# two patterns can be joined using %R% in rebus; optional searches use optional() function\n",
        "patrn = optional(DGT) %R% DGT # first digit is optional in case of single digit values\n",
        "print(patrn)\n",
        "inp = c('asdda12add4adad45', 'what34areyou4looking44')\n",
        "str_match(inp, pattern = patrn)"
      ],
      "execution_count": null,
      "outputs": []
    },
    {
      "cell_type": "code",
      "metadata": {
        "id": "3GZ2Dt0mxQxt"
      },
      "source": [
        "str_match_all(inp, pattern = patrn)"
      ],
      "execution_count": null,
      "outputs": []
    },
    {
      "cell_type": "markdown",
      "metadata": {
        "id": "R4r1aZx1jiCt"
      },
      "source": [
        "## Q-4\n",
        "\n",
        "Create a data in a data frame with the following column names and requirements as given below:</br>\n",
        "Requirements:\n",
        "1.\temp.id : Employee id; values in range 1 to 9.\n",
        "2.\tdep: 3 Employee departments- 'front-desk', 'back-office', 'Reception‘. Each repeated 3 times in data.\n",
        "3.\tbonus.prev: last year’s bonus; value range 2000 to 5000. More than one employee may receive same bonus.\n",
        "4.\tbonus.cur: Current year bonus with similar restriction as point 3.\n",
        "5.\tincr.prev: Percentage increment received last year; value range 0.00 to 0.05 from random uniform distribution. More than one employee may receive same percentage increment.\n",
        "6.\tincr.cur: Current year increment with similar restrictions as point 5.\n",
        "7.\tavg.bonus: 2 year average bonus for each employee.\n",
        "8.\tavg.incr: 2 year average increment for each employee."
      ]
    },
    {
      "cell_type": "code",
      "metadata": {
        "id": "wlFNeT0Wjjnq"
      },
      "source": [
        "## write your code here\n"
      ],
      "execution_count": null,
      "outputs": []
    },
    {
      "cell_type": "markdown",
      "metadata": {
        "id": "macJYfmSffzt"
      },
      "source": [
        "## Q-5\n",
        "\n",
        "### Data Preparation for Modeling\n",
        "\n",
        "\n",
        "   <b>DATASET</b> <br/>\n",
        "    1. Delay.csv on google drive (can be read easily in R)\n",
        "\n",
        "link to read data: https://docs.google.com/spreadsheets/d/e/2PACX-1vRrlOVwddINrohdJNPhHu1smC7VX6esPK2pO6sGu4Ssi8fOnRGAmPvcPLgoRpnGrpPC0ZTMw-UMjljh/pub?gid=981129815&single=true&output=csv\n",
        "    \n",
        "    All flights out of 3 DC airports (WAS) into 3 NYC airports which were not cancelled in January 2004\n",
        "   <b>META-DATA</b> <br/>\n",
        "   \n",
        "        CRS_DEP_TIME: Departure Time\n",
        "        Carrier\n",
        "        Origin\n",
        "        DEST : Destination\n",
        "        Distance\n",
        "        FL_DATE: Flight Date\n",
        "        FL_NUM: Flight Number\n",
        "        Weather: 1 means weather-related delay, 0 otherwise\n",
        "        Day_Week: Day of the Week\n",
        "        Day_Of_month: Day of the Month\n",
        "        Tail Number\n",
        "        Flight.Status: binary variable (Target)\n",
        "\n",
        "    Carrier Code\tCarrier Name\n",
        "            AA\tAmerican Airlines, Inc.\n",
        "            CO\tContinental Air Lines, Inc.\n",
        "            DH\tAtlantic Coast Airlines\n",
        "            DL\tDelta Air Lines, Inc.\n",
        "            EV\tAtlantic Southeast Airlines\n",
        "            FL\tAirtran Airways Corporation\n",
        "            MQ\tAmerican Eagle Airlines,inc\n",
        "            OH\tComair, Inc.\n",
        "            RU\tContinental Express Airline\n",
        "            UA\tUnited Air Lines, Inc.\n",
        "            US\tUS Airways, Inc.\n"
      ]
    },
    {
      "cell_type": "markdown",
      "metadata": {
        "id": "cVM55s-B28uJ"
      },
      "source": [
        "### Step-1: Load Your Data using R"
      ]
    },
    {
      "cell_type": "code",
      "metadata": {
        "colab": {
          "base_uri": "https://localhost:8080/",
          "height": 221
        },
        "id": "g4g45kaQ1tLk",
        "outputId": "09bcf41f-e746-4026-aea7-4568cbb5a1f8"
      },
      "source": [
        "data = # load the delay data"
      ],
      "execution_count": null,
      "outputs": [
        {
          "output_type": "display_data",
          "data": {
            "text/plain": [
              "  CRS_DEP_TIME CARRIER DEP_TIME DEST DISTANCE FL_DATE  FL_NUM ORIGIN Weather\n",
              "1 1455         OH      1455     JFK  184      1/1/2004 5935   BWI    0      \n",
              "2 1640         DH      1640     JFK  213      1/1/2004 6155   DCA    0      \n",
              "3 1245         DH      1245     LGA  229      1/1/2004 7208   IAD    0      \n",
              "4 1715         DH      1709     LGA  229      1/1/2004 7215   IAD    0      \n",
              "  DAY_WEEK DAY_OF_MONTH TAIL_NUM Flight.Status\n",
              "1 4        1            N940CA   ontime       \n",
              "2 4        1            N405FJ   ontime       \n",
              "3 4        1            N695BR   ontime       \n",
              "4 4        1            N662BR   ontime       "
            ],
            "text/latex": "A data.frame: 4 × 13\n\\begin{tabular}{r|lllllllllllll}\n  & CRS\\_DEP\\_TIME & CARRIER & DEP\\_TIME & DEST & DISTANCE & FL\\_DATE & FL\\_NUM & ORIGIN & Weather & DAY\\_WEEK & DAY\\_OF\\_MONTH & TAIL\\_NUM & Flight.Status\\\\\n  & <int> & <chr> & <int> & <chr> & <int> & <chr> & <int> & <chr> & <int> & <int> & <int> & <chr> & <chr>\\\\\n\\hline\n\t1 & 1455 & OH & 1455 & JFK & 184 & 1/1/2004 & 5935 & BWI & 0 & 4 & 1 & N940CA & ontime\\\\\n\t2 & 1640 & DH & 1640 & JFK & 213 & 1/1/2004 & 6155 & DCA & 0 & 4 & 1 & N405FJ & ontime\\\\\n\t3 & 1245 & DH & 1245 & LGA & 229 & 1/1/2004 & 7208 & IAD & 0 & 4 & 1 & N695BR & ontime\\\\\n\t4 & 1715 & DH & 1709 & LGA & 229 & 1/1/2004 & 7215 & IAD & 0 & 4 & 1 & N662BR & ontime\\\\\n\\end{tabular}\n",
            "text/markdown": "\nA data.frame: 4 × 13\n\n| <!--/--> | CRS_DEP_TIME &lt;int&gt; | CARRIER &lt;chr&gt; | DEP_TIME &lt;int&gt; | DEST &lt;chr&gt; | DISTANCE &lt;int&gt; | FL_DATE &lt;chr&gt; | FL_NUM &lt;int&gt; | ORIGIN &lt;chr&gt; | Weather &lt;int&gt; | DAY_WEEK &lt;int&gt; | DAY_OF_MONTH &lt;int&gt; | TAIL_NUM &lt;chr&gt; | Flight.Status &lt;chr&gt; |\n|---|---|---|---|---|---|---|---|---|---|---|---|---|---|\n| 1 | 1455 | OH | 1455 | JFK | 184 | 1/1/2004 | 5935 | BWI | 0 | 4 | 1 | N940CA | ontime |\n| 2 | 1640 | DH | 1640 | JFK | 213 | 1/1/2004 | 6155 | DCA | 0 | 4 | 1 | N405FJ | ontime |\n| 3 | 1245 | DH | 1245 | LGA | 229 | 1/1/2004 | 7208 | IAD | 0 | 4 | 1 | N695BR | ontime |\n| 4 | 1715 | DH | 1709 | LGA | 229 | 1/1/2004 | 7215 | IAD | 0 | 4 | 1 | N662BR | ontime |\n\n",
            "text/html": [
              "<table class=\"dataframe\">\n",
              "<caption>A data.frame: 4 × 13</caption>\n",
              "<thead>\n",
              "\t<tr><th></th><th scope=col>CRS_DEP_TIME</th><th scope=col>CARRIER</th><th scope=col>DEP_TIME</th><th scope=col>DEST</th><th scope=col>DISTANCE</th><th scope=col>FL_DATE</th><th scope=col>FL_NUM</th><th scope=col>ORIGIN</th><th scope=col>Weather</th><th scope=col>DAY_WEEK</th><th scope=col>DAY_OF_MONTH</th><th scope=col>TAIL_NUM</th><th scope=col>Flight.Status</th></tr>\n",
              "\t<tr><th></th><th scope=col>&lt;int&gt;</th><th scope=col>&lt;chr&gt;</th><th scope=col>&lt;int&gt;</th><th scope=col>&lt;chr&gt;</th><th scope=col>&lt;int&gt;</th><th scope=col>&lt;chr&gt;</th><th scope=col>&lt;int&gt;</th><th scope=col>&lt;chr&gt;</th><th scope=col>&lt;int&gt;</th><th scope=col>&lt;int&gt;</th><th scope=col>&lt;int&gt;</th><th scope=col>&lt;chr&gt;</th><th scope=col>&lt;chr&gt;</th></tr>\n",
              "</thead>\n",
              "<tbody>\n",
              "\t<tr><th scope=row>1</th><td>1455</td><td>OH</td><td>1455</td><td>JFK</td><td>184</td><td>1/1/2004</td><td>5935</td><td>BWI</td><td>0</td><td>4</td><td>1</td><td>N940CA</td><td>ontime</td></tr>\n",
              "\t<tr><th scope=row>2</th><td>1640</td><td>DH</td><td>1640</td><td>JFK</td><td>213</td><td>1/1/2004</td><td>6155</td><td>DCA</td><td>0</td><td>4</td><td>1</td><td>N405FJ</td><td>ontime</td></tr>\n",
              "\t<tr><th scope=row>3</th><td>1245</td><td>DH</td><td>1245</td><td>LGA</td><td>229</td><td>1/1/2004</td><td>7208</td><td>IAD</td><td>0</td><td>4</td><td>1</td><td>N695BR</td><td>ontime</td></tr>\n",
              "\t<tr><th scope=row>4</th><td>1715</td><td>DH</td><td>1709</td><td>LGA</td><td>229</td><td>1/1/2004</td><td>7215</td><td>IAD</td><td>0</td><td>4</td><td>1</td><td>N662BR</td><td>ontime</td></tr>\n",
              "</tbody>\n",
              "</table>\n"
            ]
          },
          "metadata": {
            "tags": []
          }
        }
      ]
    },
    {
      "cell_type": "markdown",
      "metadata": {
        "id": "mchHUpVBff1w"
      },
      "source": [
        "### Step-2: Explore Your Data \n",
        "\n",
        "#### 2.1 check data types and dimension of dataframe"
      ]
    },
    {
      "cell_type": "code",
      "metadata": {
        "id": "SoXl3VyHff4G"
      },
      "source": [
        "# show the structure and data types of all columns\n"
      ],
      "execution_count": null,
      "outputs": []
    },
    {
      "cell_type": "code",
      "metadata": {
        "colab": {
          "base_uri": "https://localhost:8080/",
          "height": 425
        },
        "id": "8VUZbP8qff6V",
        "outputId": "c24107b8-0f42-4bb5-f79b-def0f198f794"
      },
      "source": [
        "#### 2.2 Look at first 4 records from top and bottom\n"
      ],
      "execution_count": null,
      "outputs": [
        {
          "output_type": "display_data",
          "data": {
            "text/plain": [
              "  CRS_DEP_TIME CARRIER DEP_TIME DEST DISTANCE FL_DATE  FL_NUM ORIGIN Weather\n",
              "1 1455         OH      1455     JFK  184      1/1/2004 5935   BWI    0      \n",
              "2 1640         DH      1640     JFK  213      1/1/2004 6155   DCA    0      \n",
              "3 1245         DH      1245     LGA  229      1/1/2004 7208   IAD    0      \n",
              "4 1715         DH      1709     LGA  229      1/1/2004 7215   IAD    0      \n",
              "  DAY_WEEK DAY_OF_MONTH TAIL_NUM Flight.Status\n",
              "1 4        1            N940CA   ontime       \n",
              "2 4        1            N405FJ   ontime       \n",
              "3 4        1            N695BR   ontime       \n",
              "4 4        1            N662BR   ontime       "
            ],
            "text/latex": "A data.frame: 4 × 13\n\\begin{tabular}{r|lllllllllllll}\n  & CRS\\_DEP\\_TIME & CARRIER & DEP\\_TIME & DEST & DISTANCE & FL\\_DATE & FL\\_NUM & ORIGIN & Weather & DAY\\_WEEK & DAY\\_OF\\_MONTH & TAIL\\_NUM & Flight.Status\\\\\n  & <int> & <chr> & <int> & <chr> & <int> & <chr> & <int> & <chr> & <int> & <int> & <int> & <chr> & <chr>\\\\\n\\hline\n\t1 & 1455 & OH & 1455 & JFK & 184 & 1/1/2004 & 5935 & BWI & 0 & 4 & 1 & N940CA & ontime\\\\\n\t2 & 1640 & DH & 1640 & JFK & 213 & 1/1/2004 & 6155 & DCA & 0 & 4 & 1 & N405FJ & ontime\\\\\n\t3 & 1245 & DH & 1245 & LGA & 229 & 1/1/2004 & 7208 & IAD & 0 & 4 & 1 & N695BR & ontime\\\\\n\t4 & 1715 & DH & 1709 & LGA & 229 & 1/1/2004 & 7215 & IAD & 0 & 4 & 1 & N662BR & ontime\\\\\n\\end{tabular}\n",
            "text/markdown": "\nA data.frame: 4 × 13\n\n| <!--/--> | CRS_DEP_TIME &lt;int&gt; | CARRIER &lt;chr&gt; | DEP_TIME &lt;int&gt; | DEST &lt;chr&gt; | DISTANCE &lt;int&gt; | FL_DATE &lt;chr&gt; | FL_NUM &lt;int&gt; | ORIGIN &lt;chr&gt; | Weather &lt;int&gt; | DAY_WEEK &lt;int&gt; | DAY_OF_MONTH &lt;int&gt; | TAIL_NUM &lt;chr&gt; | Flight.Status &lt;chr&gt; |\n|---|---|---|---|---|---|---|---|---|---|---|---|---|---|\n| 1 | 1455 | OH | 1455 | JFK | 184 | 1/1/2004 | 5935 | BWI | 0 | 4 | 1 | N940CA | ontime |\n| 2 | 1640 | DH | 1640 | JFK | 213 | 1/1/2004 | 6155 | DCA | 0 | 4 | 1 | N405FJ | ontime |\n| 3 | 1245 | DH | 1245 | LGA | 229 | 1/1/2004 | 7208 | IAD | 0 | 4 | 1 | N695BR | ontime |\n| 4 | 1715 | DH | 1709 | LGA | 229 | 1/1/2004 | 7215 | IAD | 0 | 4 | 1 | N662BR | ontime |\n\n",
            "text/html": [
              "<table class=\"dataframe\">\n",
              "<caption>A data.frame: 4 × 13</caption>\n",
              "<thead>\n",
              "\t<tr><th></th><th scope=col>CRS_DEP_TIME</th><th scope=col>CARRIER</th><th scope=col>DEP_TIME</th><th scope=col>DEST</th><th scope=col>DISTANCE</th><th scope=col>FL_DATE</th><th scope=col>FL_NUM</th><th scope=col>ORIGIN</th><th scope=col>Weather</th><th scope=col>DAY_WEEK</th><th scope=col>DAY_OF_MONTH</th><th scope=col>TAIL_NUM</th><th scope=col>Flight.Status</th></tr>\n",
              "\t<tr><th></th><th scope=col>&lt;int&gt;</th><th scope=col>&lt;chr&gt;</th><th scope=col>&lt;int&gt;</th><th scope=col>&lt;chr&gt;</th><th scope=col>&lt;int&gt;</th><th scope=col>&lt;chr&gt;</th><th scope=col>&lt;int&gt;</th><th scope=col>&lt;chr&gt;</th><th scope=col>&lt;int&gt;</th><th scope=col>&lt;int&gt;</th><th scope=col>&lt;int&gt;</th><th scope=col>&lt;chr&gt;</th><th scope=col>&lt;chr&gt;</th></tr>\n",
              "</thead>\n",
              "<tbody>\n",
              "\t<tr><th scope=row>1</th><td>1455</td><td>OH</td><td>1455</td><td>JFK</td><td>184</td><td>1/1/2004</td><td>5935</td><td>BWI</td><td>0</td><td>4</td><td>1</td><td>N940CA</td><td>ontime</td></tr>\n",
              "\t<tr><th scope=row>2</th><td>1640</td><td>DH</td><td>1640</td><td>JFK</td><td>213</td><td>1/1/2004</td><td>6155</td><td>DCA</td><td>0</td><td>4</td><td>1</td><td>N405FJ</td><td>ontime</td></tr>\n",
              "\t<tr><th scope=row>3</th><td>1245</td><td>DH</td><td>1245</td><td>LGA</td><td>229</td><td>1/1/2004</td><td>7208</td><td>IAD</td><td>0</td><td>4</td><td>1</td><td>N695BR</td><td>ontime</td></tr>\n",
              "\t<tr><th scope=row>4</th><td>1715</td><td>DH</td><td>1709</td><td>LGA</td><td>229</td><td>1/1/2004</td><td>7215</td><td>IAD</td><td>0</td><td>4</td><td>1</td><td>N662BR</td><td>ontime</td></tr>\n",
              "</tbody>\n",
              "</table>\n"
            ]
          },
          "metadata": {
            "tags": []
          }
        },
        {
          "output_type": "display_data",
          "data": {
            "text/plain": [
              "     CRS_DEP_TIME CARRIER DEP_TIME DEST DISTANCE FL_DATE   FL_NUM ORIGIN\n",
              "2198 1700         RU      1653     EWR  213      31/1/2004 2497   IAD   \n",
              "2199 1600         RU      1558     EWR  199      31/1/2004 2361   DCA   \n",
              "2200 1359         RU      1403     EWR  199      31/1/2004 2216   DCA   \n",
              "2201 1730         RU      1736     EWR  199      31/1/2004 2097   DCA   \n",
              "     Weather DAY_WEEK DAY_OF_MONTH TAIL_NUM Flight.Status\n",
              "2198 0       6        31           N16976   ontime       \n",
              "2199 0       6        31           N14902   ontime       \n",
              "2200 0       6        31           N16961   ontime       \n",
              "2201 0       6        31           N13994   ontime       "
            ],
            "text/latex": "A data.frame: 4 × 13\n\\begin{tabular}{r|lllllllllllll}\n  & CRS\\_DEP\\_TIME & CARRIER & DEP\\_TIME & DEST & DISTANCE & FL\\_DATE & FL\\_NUM & ORIGIN & Weather & DAY\\_WEEK & DAY\\_OF\\_MONTH & TAIL\\_NUM & Flight.Status\\\\\n  & <int> & <chr> & <int> & <chr> & <int> & <chr> & <int> & <chr> & <int> & <int> & <int> & <chr> & <chr>\\\\\n\\hline\n\t2198 & 1700 & RU & 1653 & EWR & 213 & 31/1/2004 & 2497 & IAD & 0 & 6 & 31 & N16976 & ontime\\\\\n\t2199 & 1600 & RU & 1558 & EWR & 199 & 31/1/2004 & 2361 & DCA & 0 & 6 & 31 & N14902 & ontime\\\\\n\t2200 & 1359 & RU & 1403 & EWR & 199 & 31/1/2004 & 2216 & DCA & 0 & 6 & 31 & N16961 & ontime\\\\\n\t2201 & 1730 & RU & 1736 & EWR & 199 & 31/1/2004 & 2097 & DCA & 0 & 6 & 31 & N13994 & ontime\\\\\n\\end{tabular}\n",
            "text/markdown": "\nA data.frame: 4 × 13\n\n| <!--/--> | CRS_DEP_TIME &lt;int&gt; | CARRIER &lt;chr&gt; | DEP_TIME &lt;int&gt; | DEST &lt;chr&gt; | DISTANCE &lt;int&gt; | FL_DATE &lt;chr&gt; | FL_NUM &lt;int&gt; | ORIGIN &lt;chr&gt; | Weather &lt;int&gt; | DAY_WEEK &lt;int&gt; | DAY_OF_MONTH &lt;int&gt; | TAIL_NUM &lt;chr&gt; | Flight.Status &lt;chr&gt; |\n|---|---|---|---|---|---|---|---|---|---|---|---|---|---|\n| 2198 | 1700 | RU | 1653 | EWR | 213 | 31/1/2004 | 2497 | IAD | 0 | 6 | 31 | N16976 | ontime |\n| 2199 | 1600 | RU | 1558 | EWR | 199 | 31/1/2004 | 2361 | DCA | 0 | 6 | 31 | N14902 | ontime |\n| 2200 | 1359 | RU | 1403 | EWR | 199 | 31/1/2004 | 2216 | DCA | 0 | 6 | 31 | N16961 | ontime |\n| 2201 | 1730 | RU | 1736 | EWR | 199 | 31/1/2004 | 2097 | DCA | 0 | 6 | 31 | N13994 | ontime |\n\n",
            "text/html": [
              "<table class=\"dataframe\">\n",
              "<caption>A data.frame: 4 × 13</caption>\n",
              "<thead>\n",
              "\t<tr><th></th><th scope=col>CRS_DEP_TIME</th><th scope=col>CARRIER</th><th scope=col>DEP_TIME</th><th scope=col>DEST</th><th scope=col>DISTANCE</th><th scope=col>FL_DATE</th><th scope=col>FL_NUM</th><th scope=col>ORIGIN</th><th scope=col>Weather</th><th scope=col>DAY_WEEK</th><th scope=col>DAY_OF_MONTH</th><th scope=col>TAIL_NUM</th><th scope=col>Flight.Status</th></tr>\n",
              "\t<tr><th></th><th scope=col>&lt;int&gt;</th><th scope=col>&lt;chr&gt;</th><th scope=col>&lt;int&gt;</th><th scope=col>&lt;chr&gt;</th><th scope=col>&lt;int&gt;</th><th scope=col>&lt;chr&gt;</th><th scope=col>&lt;int&gt;</th><th scope=col>&lt;chr&gt;</th><th scope=col>&lt;int&gt;</th><th scope=col>&lt;int&gt;</th><th scope=col>&lt;int&gt;</th><th scope=col>&lt;chr&gt;</th><th scope=col>&lt;chr&gt;</th></tr>\n",
              "</thead>\n",
              "<tbody>\n",
              "\t<tr><th scope=row>2198</th><td>1700</td><td>RU</td><td>1653</td><td>EWR</td><td>213</td><td>31/1/2004</td><td>2497</td><td>IAD</td><td>0</td><td>6</td><td>31</td><td>N16976</td><td>ontime</td></tr>\n",
              "\t<tr><th scope=row>2199</th><td>1600</td><td>RU</td><td>1558</td><td>EWR</td><td>199</td><td>31/1/2004</td><td>2361</td><td>DCA</td><td>0</td><td>6</td><td>31</td><td>N14902</td><td>ontime</td></tr>\n",
              "\t<tr><th scope=row>2200</th><td>1359</td><td>RU</td><td>1403</td><td>EWR</td><td>199</td><td>31/1/2004</td><td>2216</td><td>DCA</td><td>0</td><td>6</td><td>31</td><td>N16961</td><td>ontime</td></tr>\n",
              "\t<tr><th scope=row>2201</th><td>1730</td><td>RU</td><td>1736</td><td>EWR</td><td>199</td><td>31/1/2004</td><td>2097</td><td>DCA</td><td>0</td><td>6</td><td>31</td><td>N13994</td><td>ontime</td></tr>\n",
              "</tbody>\n",
              "</table>\n"
            ]
          },
          "metadata": {
            "tags": []
          }
        }
      ]
    },
    {
      "cell_type": "markdown",
      "metadata": {
        "id": "s1nxWjr83jI0"
      },
      "source": [
        "#### 2.2 Renaming variables\n",
        "rename Flight.Status as Target\n",
        "\n",
        "    rename(data frame, var1_new_name = var1_old_name, var2_new_name = var2_old_name, etc.)"
      ]
    },
    {
      "cell_type": "code",
      "metadata": {
        "colab": {
          "base_uri": "https://localhost:8080/",
          "height": 159
        },
        "id": "ymQBzqCz3uY6",
        "outputId": "4756c0d3-163d-4e16-888c-ea09b62ab73d"
      },
      "source": [
        ""
      ],
      "execution_count": null,
      "outputs": [
        {
          "output_type": "display_data",
          "data": {
            "text/plain": [
              "  CRS_DEP_TIME CARRIER DEP_TIME DEST DISTANCE FL_DATE  FL_NUM ORIGIN Weather\n",
              "1 1455         OH      1455     JFK  184      1/1/2004 5935   BWI    0      \n",
              "2 1640         DH      1640     JFK  213      1/1/2004 6155   DCA    0      \n",
              "  DAY_WEEK DAY_OF_MONTH TAIL_NUM Target\n",
              "1 4        1            N940CA   ontime\n",
              "2 4        1            N405FJ   ontime"
            ],
            "text/latex": "A data.frame: 2 × 13\n\\begin{tabular}{r|lllllllllllll}\n  & CRS\\_DEP\\_TIME & CARRIER & DEP\\_TIME & DEST & DISTANCE & FL\\_DATE & FL\\_NUM & ORIGIN & Weather & DAY\\_WEEK & DAY\\_OF\\_MONTH & TAIL\\_NUM & Target\\\\\n  & <int> & <chr> & <int> & <chr> & <int> & <chr> & <int> & <chr> & <int> & <int> & <int> & <chr> & <chr>\\\\\n\\hline\n\t1 & 1455 & OH & 1455 & JFK & 184 & 1/1/2004 & 5935 & BWI & 0 & 4 & 1 & N940CA & ontime\\\\\n\t2 & 1640 & DH & 1640 & JFK & 213 & 1/1/2004 & 6155 & DCA & 0 & 4 & 1 & N405FJ & ontime\\\\\n\\end{tabular}\n",
            "text/markdown": "\nA data.frame: 2 × 13\n\n| <!--/--> | CRS_DEP_TIME &lt;int&gt; | CARRIER &lt;chr&gt; | DEP_TIME &lt;int&gt; | DEST &lt;chr&gt; | DISTANCE &lt;int&gt; | FL_DATE &lt;chr&gt; | FL_NUM &lt;int&gt; | ORIGIN &lt;chr&gt; | Weather &lt;int&gt; | DAY_WEEK &lt;int&gt; | DAY_OF_MONTH &lt;int&gt; | TAIL_NUM &lt;chr&gt; | Target &lt;chr&gt; |\n|---|---|---|---|---|---|---|---|---|---|---|---|---|---|\n| 1 | 1455 | OH | 1455 | JFK | 184 | 1/1/2004 | 5935 | BWI | 0 | 4 | 1 | N940CA | ontime |\n| 2 | 1640 | DH | 1640 | JFK | 213 | 1/1/2004 | 6155 | DCA | 0 | 4 | 1 | N405FJ | ontime |\n\n",
            "text/html": [
              "<table class=\"dataframe\">\n",
              "<caption>A data.frame: 2 × 13</caption>\n",
              "<thead>\n",
              "\t<tr><th></th><th scope=col>CRS_DEP_TIME</th><th scope=col>CARRIER</th><th scope=col>DEP_TIME</th><th scope=col>DEST</th><th scope=col>DISTANCE</th><th scope=col>FL_DATE</th><th scope=col>FL_NUM</th><th scope=col>ORIGIN</th><th scope=col>Weather</th><th scope=col>DAY_WEEK</th><th scope=col>DAY_OF_MONTH</th><th scope=col>TAIL_NUM</th><th scope=col>Target</th></tr>\n",
              "\t<tr><th></th><th scope=col>&lt;int&gt;</th><th scope=col>&lt;chr&gt;</th><th scope=col>&lt;int&gt;</th><th scope=col>&lt;chr&gt;</th><th scope=col>&lt;int&gt;</th><th scope=col>&lt;chr&gt;</th><th scope=col>&lt;int&gt;</th><th scope=col>&lt;chr&gt;</th><th scope=col>&lt;int&gt;</th><th scope=col>&lt;int&gt;</th><th scope=col>&lt;int&gt;</th><th scope=col>&lt;chr&gt;</th><th scope=col>&lt;chr&gt;</th></tr>\n",
              "</thead>\n",
              "<tbody>\n",
              "\t<tr><th scope=row>1</th><td>1455</td><td>OH</td><td>1455</td><td>JFK</td><td>184</td><td>1/1/2004</td><td>5935</td><td>BWI</td><td>0</td><td>4</td><td>1</td><td>N940CA</td><td>ontime</td></tr>\n",
              "\t<tr><th scope=row>2</th><td>1640</td><td>DH</td><td>1640</td><td>JFK</td><td>213</td><td>1/1/2004</td><td>6155</td><td>DCA</td><td>0</td><td>4</td><td>1</td><td>N405FJ</td><td>ontime</td></tr>\n",
              "</tbody>\n",
              "</table>\n"
            ]
          },
          "metadata": {
            "tags": []
          }
        }
      ]
    },
    {
      "cell_type": "markdown",
      "metadata": {
        "id": "2jlNcasV3ubx"
      },
      "source": [
        "#### 2.3 making specific selections"
      ]
    },
    {
      "cell_type": "code",
      "metadata": {
        "colab": {
          "base_uri": "https://localhost:8080/",
          "height": 221
        },
        "id": "57I1lbF63ud9",
        "outputId": "f3021b3a-204f-408e-a9bf-f0cfd8f8fa56"
      },
      "source": [
        "# how to select all variables except Target as predictors dataframe\n"
      ],
      "execution_count": null,
      "outputs": [
        {
          "output_type": "display_data",
          "data": {
            "text/plain": [
              "  CRS_DEP_TIME CARRIER DEP_TIME DEST DISTANCE FL_DATE  FL_NUM ORIGIN Weather\n",
              "1 1455         OH      1455     JFK  184      1/1/2004 5935   BWI    0      \n",
              "2 1640         DH      1640     JFK  213      1/1/2004 6155   DCA    0      \n",
              "3 1245         DH      1245     LGA  229      1/1/2004 7208   IAD    0      \n",
              "4 1715         DH      1709     LGA  229      1/1/2004 7215   IAD    0      \n",
              "  DAY_WEEK DAY_OF_MONTH TAIL_NUM\n",
              "1 4        1            N940CA  \n",
              "2 4        1            N405FJ  \n",
              "3 4        1            N695BR  \n",
              "4 4        1            N662BR  "
            ],
            "text/latex": "A data.frame: 4 × 12\n\\begin{tabular}{r|llllllllllll}\n  & CRS\\_DEP\\_TIME & CARRIER & DEP\\_TIME & DEST & DISTANCE & FL\\_DATE & FL\\_NUM & ORIGIN & Weather & DAY\\_WEEK & DAY\\_OF\\_MONTH & TAIL\\_NUM\\\\\n  & <int> & <chr> & <int> & <chr> & <int> & <chr> & <int> & <chr> & <int> & <int> & <int> & <chr>\\\\\n\\hline\n\t1 & 1455 & OH & 1455 & JFK & 184 & 1/1/2004 & 5935 & BWI & 0 & 4 & 1 & N940CA\\\\\n\t2 & 1640 & DH & 1640 & JFK & 213 & 1/1/2004 & 6155 & DCA & 0 & 4 & 1 & N405FJ\\\\\n\t3 & 1245 & DH & 1245 & LGA & 229 & 1/1/2004 & 7208 & IAD & 0 & 4 & 1 & N695BR\\\\\n\t4 & 1715 & DH & 1709 & LGA & 229 & 1/1/2004 & 7215 & IAD & 0 & 4 & 1 & N662BR\\\\\n\\end{tabular}\n",
            "text/markdown": "\nA data.frame: 4 × 12\n\n| <!--/--> | CRS_DEP_TIME &lt;int&gt; | CARRIER &lt;chr&gt; | DEP_TIME &lt;int&gt; | DEST &lt;chr&gt; | DISTANCE &lt;int&gt; | FL_DATE &lt;chr&gt; | FL_NUM &lt;int&gt; | ORIGIN &lt;chr&gt; | Weather &lt;int&gt; | DAY_WEEK &lt;int&gt; | DAY_OF_MONTH &lt;int&gt; | TAIL_NUM &lt;chr&gt; |\n|---|---|---|---|---|---|---|---|---|---|---|---|---|\n| 1 | 1455 | OH | 1455 | JFK | 184 | 1/1/2004 | 5935 | BWI | 0 | 4 | 1 | N940CA |\n| 2 | 1640 | DH | 1640 | JFK | 213 | 1/1/2004 | 6155 | DCA | 0 | 4 | 1 | N405FJ |\n| 3 | 1245 | DH | 1245 | LGA | 229 | 1/1/2004 | 7208 | IAD | 0 | 4 | 1 | N695BR |\n| 4 | 1715 | DH | 1709 | LGA | 229 | 1/1/2004 | 7215 | IAD | 0 | 4 | 1 | N662BR |\n\n",
            "text/html": [
              "<table class=\"dataframe\">\n",
              "<caption>A data.frame: 4 × 12</caption>\n",
              "<thead>\n",
              "\t<tr><th></th><th scope=col>CRS_DEP_TIME</th><th scope=col>CARRIER</th><th scope=col>DEP_TIME</th><th scope=col>DEST</th><th scope=col>DISTANCE</th><th scope=col>FL_DATE</th><th scope=col>FL_NUM</th><th scope=col>ORIGIN</th><th scope=col>Weather</th><th scope=col>DAY_WEEK</th><th scope=col>DAY_OF_MONTH</th><th scope=col>TAIL_NUM</th></tr>\n",
              "\t<tr><th></th><th scope=col>&lt;int&gt;</th><th scope=col>&lt;chr&gt;</th><th scope=col>&lt;int&gt;</th><th scope=col>&lt;chr&gt;</th><th scope=col>&lt;int&gt;</th><th scope=col>&lt;chr&gt;</th><th scope=col>&lt;int&gt;</th><th scope=col>&lt;chr&gt;</th><th scope=col>&lt;int&gt;</th><th scope=col>&lt;int&gt;</th><th scope=col>&lt;int&gt;</th><th scope=col>&lt;chr&gt;</th></tr>\n",
              "</thead>\n",
              "<tbody>\n",
              "\t<tr><th scope=row>1</th><td>1455</td><td>OH</td><td>1455</td><td>JFK</td><td>184</td><td>1/1/2004</td><td>5935</td><td>BWI</td><td>0</td><td>4</td><td>1</td><td>N940CA</td></tr>\n",
              "\t<tr><th scope=row>2</th><td>1640</td><td>DH</td><td>1640</td><td>JFK</td><td>213</td><td>1/1/2004</td><td>6155</td><td>DCA</td><td>0</td><td>4</td><td>1</td><td>N405FJ</td></tr>\n",
              "\t<tr><th scope=row>3</th><td>1245</td><td>DH</td><td>1245</td><td>LGA</td><td>229</td><td>1/1/2004</td><td>7208</td><td>IAD</td><td>0</td><td>4</td><td>1</td><td>N695BR</td></tr>\n",
              "\t<tr><th scope=row>4</th><td>1715</td><td>DH</td><td>1709</td><td>LGA</td><td>229</td><td>1/1/2004</td><td>7215</td><td>IAD</td><td>0</td><td>4</td><td>1</td><td>N662BR</td></tr>\n",
              "</tbody>\n",
              "</table>\n"
            ]
          },
          "metadata": {
            "tags": []
          }
        }
      ]
    },
    {
      "cell_type": "code",
      "metadata": {
        "colab": {
          "base_uri": "https://localhost:8080/",
          "height": 34
        },
        "id": "4OSgQz393ugd",
        "outputId": "f28333e2-caf2-4e84-81ff-5eda121b28f8"
      },
      "source": [
        "# how to select all variables that starts with DAY\n"
      ],
      "execution_count": null,
      "outputs": [
        {
          "output_type": "display_data",
          "data": {
            "text/plain": [
              "[1] \"DAY_WEEK\"     \"DAY_OF_MONTH\""
            ],
            "text/latex": "\\begin{enumerate*}\n\\item 'DAY\\_WEEK'\n\\item 'DAY\\_OF\\_MONTH'\n\\end{enumerate*}\n",
            "text/markdown": "1. 'DAY_WEEK'\n2. 'DAY_OF_MONTH'\n\n\n",
            "text/html": [
              "<style>\n",
              ".list-inline {list-style: none; margin:0; padding: 0}\n",
              ".list-inline>li {display: inline-block}\n",
              ".list-inline>li:not(:last-child)::after {content: \"\\00b7\"; padding: 0 .5ex}\n",
              "</style>\n",
              "<ol class=list-inline><li>'DAY_WEEK'</li><li>'DAY_OF_MONTH'</li></ol>\n"
            ]
          },
          "metadata": {
            "tags": []
          }
        }
      ]
    },
    {
      "cell_type": "markdown",
      "metadata": {
        "id": "jDcEIfiJ3ui3"
      },
      "source": [
        "#### 2.4     \n",
        "    \n",
        "\n",
        "1.   convert Weather,TAIL_NUM, ORIGIN, DEST, Carrier and DAY_WEEK to factors\n",
        "2.   convert DATE variable to datetime datatype\n",
        "1.   make sure delayed is 1 and ontime is 0 internally"
      ]
    },
    {
      "cell_type": "code",
      "metadata": {
        "colab": {
          "base_uri": "https://localhost:8080/",
          "height": 34
        },
        "id": "mpeQNRcx87eD",
        "outputId": "8427f1bd-d4fd-423e-82c6-ed916a6a0151"
      },
      "source": [
        "names(data_tbl)"
      ],
      "execution_count": null,
      "outputs": [
        {
          "output_type": "display_data",
          "data": {
            "text/plain": [
              " [1] \"CRS_DEP_TIME\" \"CARRIER\"      \"DEP_TIME\"     \"DEST\"         \"DISTANCE\"    \n",
              " [6] \"FL_DATE\"      \"FL_NUM\"       \"ORIGIN\"       \"Weather\"      \"DAY_WEEK\"    \n",
              "[11] \"DAY_OF_MONTH\" \"TAIL_NUM\"     \"Target\"      "
            ],
            "text/latex": "\\begin{enumerate*}\n\\item 'CRS\\_DEP\\_TIME'\n\\item 'CARRIER'\n\\item 'DEP\\_TIME'\n\\item 'DEST'\n\\item 'DISTANCE'\n\\item 'FL\\_DATE'\n\\item 'FL\\_NUM'\n\\item 'ORIGIN'\n\\item 'Weather'\n\\item 'DAY\\_WEEK'\n\\item 'DAY\\_OF\\_MONTH'\n\\item 'TAIL\\_NUM'\n\\item 'Target'\n\\end{enumerate*}\n",
            "text/markdown": "1. 'CRS_DEP_TIME'\n2. 'CARRIER'\n3. 'DEP_TIME'\n4. 'DEST'\n5. 'DISTANCE'\n6. 'FL_DATE'\n7. 'FL_NUM'\n8. 'ORIGIN'\n9. 'Weather'\n10. 'DAY_WEEK'\n11. 'DAY_OF_MONTH'\n12. 'TAIL_NUM'\n13. 'Target'\n\n\n",
            "text/html": [
              "<style>\n",
              ".list-inline {list-style: none; margin:0; padding: 0}\n",
              ".list-inline>li {display: inline-block}\n",
              ".list-inline>li:not(:last-child)::after {content: \"\\00b7\"; padding: 0 .5ex}\n",
              "</style>\n",
              "<ol class=list-inline><li>'CRS_DEP_TIME'</li><li>'CARRIER'</li><li>'DEP_TIME'</li><li>'DEST'</li><li>'DISTANCE'</li><li>'FL_DATE'</li><li>'FL_NUM'</li><li>'ORIGIN'</li><li>'Weather'</li><li>'DAY_WEEK'</li><li>'DAY_OF_MONTH'</li><li>'TAIL_NUM'</li><li>'Target'</li></ol>\n"
            ]
          },
          "metadata": {
            "tags": []
          }
        }
      ]
    },
    {
      "cell_type": "code",
      "metadata": {
        "id": "yGnBI-Gv3ulT"
      },
      "source": [
        "# 1\n"
      ],
      "execution_count": null,
      "outputs": []
    },
    {
      "cell_type": "code",
      "metadata": {
        "colab": {
          "base_uri": "https://localhost:8080/",
          "height": 51
        },
        "id": "03cCtdSF3un8",
        "outputId": "9dccb04c-cde0-4a95-99ff-7bcce672a5ba"
      },
      "source": [
        "# 2\n"
      ],
      "execution_count": null,
      "outputs": [
        {
          "output_type": "display_data",
          "data": {
            "text/plain": [
              "CRS_DEP_TIME      CARRIER     DEP_TIME         DEST     DISTANCE      FL_DATE \n",
              "   \"integer\"     \"factor\"    \"integer\"     \"factor\"    \"integer\"       \"Date\" \n",
              "      FL_NUM       ORIGIN      Weather     DAY_WEEK DAY_OF_MONTH     TAIL_NUM \n",
              "   \"integer\"     \"factor\"     \"factor\"     \"factor\"    \"integer\"     \"factor\" \n",
              "      Target \n",
              " \"character\" "
            ],
            "text/latex": "\\begin{description*}\n\\item[CRS\\textbackslash{}\\_DEP\\textbackslash{}\\_TIME] 'integer'\n\\item[CARRIER] 'factor'\n\\item[DEP\\textbackslash{}\\_TIME] 'integer'\n\\item[DEST] 'factor'\n\\item[DISTANCE] 'integer'\n\\item[FL\\textbackslash{}\\_DATE] 'Date'\n\\item[FL\\textbackslash{}\\_NUM] 'integer'\n\\item[ORIGIN] 'factor'\n\\item[Weather] 'factor'\n\\item[DAY\\textbackslash{}\\_WEEK] 'factor'\n\\item[DAY\\textbackslash{}\\_OF\\textbackslash{}\\_MONTH] 'integer'\n\\item[TAIL\\textbackslash{}\\_NUM] 'factor'\n\\item[Target] 'character'\n\\end{description*}\n",
            "text/markdown": "CRS_DEP_TIME\n:   'integer'CARRIER\n:   'factor'DEP_TIME\n:   'integer'DEST\n:   'factor'DISTANCE\n:   'integer'FL_DATE\n:   'Date'FL_NUM\n:   'integer'ORIGIN\n:   'factor'Weather\n:   'factor'DAY_WEEK\n:   'factor'DAY_OF_MONTH\n:   'integer'TAIL_NUM\n:   'factor'Target\n:   'character'\n\n",
            "text/html": [
              "<style>\n",
              ".dl-inline {width: auto; margin:0; padding: 0}\n",
              ".dl-inline>dt, .dl-inline>dd {float: none; width: auto; display: inline-block}\n",
              ".dl-inline>dt::after {content: \":\\0020\"; padding-right: .5ex}\n",
              ".dl-inline>dt:not(:first-of-type) {padding-left: .5ex}\n",
              "</style><dl class=dl-inline><dt>CRS_DEP_TIME</dt><dd>'integer'</dd><dt>CARRIER</dt><dd>'factor'</dd><dt>DEP_TIME</dt><dd>'integer'</dd><dt>DEST</dt><dd>'factor'</dd><dt>DISTANCE</dt><dd>'integer'</dd><dt>FL_DATE</dt><dd>'Date'</dd><dt>FL_NUM</dt><dd>'integer'</dd><dt>ORIGIN</dt><dd>'factor'</dd><dt>Weather</dt><dd>'factor'</dd><dt>DAY_WEEK</dt><dd>'factor'</dd><dt>DAY_OF_MONTH</dt><dd>'integer'</dd><dt>TAIL_NUM</dt><dd>'factor'</dd><dt>Target</dt><dd>'character'</dd></dl>\n"
            ]
          },
          "metadata": {
            "tags": []
          }
        }
      ]
    },
    {
      "cell_type": "code",
      "metadata": {
        "id": "cJ1WU5Rw3uqS"
      },
      "source": [
        "# 3\n",
        "#check the Target structure\n",
        "contrasts(as.factor(data_tbl$Target))\n",
        "\n",
        "# setting delay as 1 and ontime as 0\n",
        "\n",
        "\n",
        "# check back\n"
      ],
      "execution_count": null,
      "outputs": []
    },
    {
      "cell_type": "markdown",
      "metadata": {
        "id": "JbDc5VJ63usd"
      },
      "source": [
        "#### 2.5\n",
        "1.  What time period does this data cover?\n",
        "1.  What were the most frequent values of Target, TAIL_NUM, ORIGIN, DEST, Carrier?\n",
        "1.  Which day of the week sees the most delays?\n",
        "1.  Which Dest sees the most delay?\n"
      ]
    },
    {
      "cell_type": "code",
      "metadata": {
        "colab": {
          "base_uri": "https://localhost:8080/",
          "height": 34
        },
        "id": "HTShaqxI73q_",
        "outputId": "d8fe7a5a-0354-4556-b035-cc59958484a5"
      },
      "source": [
        "# 1 \n"
      ],
      "execution_count": null,
      "outputs": [
        {
          "output_type": "display_data",
          "data": {
            "text/plain": [
              "        Min.      1st Qu.       Median         Mean      3rd Qu.         Max. \n",
              "\"2004-01-01\" \"2004-01-08\" \"2004-01-16\" \"2004-01-16\" \"2004-01-23\" \"2004-01-31\" "
            ],
            "text/latex": "\\begin{description*}\n\\item[Min.] 2004-01-01\n\\item[1st Qu.] 2004-01-08\n\\item[Median] 2004-01-16\n\\item[Mean] 2004-01-16\n\\item[3rd Qu.] 2004-01-23\n\\item[Max.] 2004-01-31\n\\end{description*}\n",
            "text/markdown": "Min.\n:   2004-01-011st Qu.\n:   2004-01-08Median\n:   2004-01-16Mean\n:   2004-01-163rd Qu.\n:   2004-01-23Max.\n:   2004-01-31\n\n",
            "text/html": [
              "<style>\n",
              ".dl-inline {width: auto; margin:0; padding: 0}\n",
              ".dl-inline>dt, .dl-inline>dd {float: none; width: auto; display: inline-block}\n",
              ".dl-inline>dt::after {content: \":\\0020\"; padding-right: .5ex}\n",
              ".dl-inline>dt:not(:first-of-type) {padding-left: .5ex}\n",
              "</style><dl class=dl-inline><dt>Min.</dt><dd><time datetime=\"2004-01-01\">2004-01-01</time></dd><dt>1st Qu.</dt><dd><time datetime=\"2004-01-08\">2004-01-08</time></dd><dt>Median</dt><dd><time datetime=\"2004-01-16\">2004-01-16</time></dd><dt>Mean</dt><dd><time datetime=\"2004-01-16\">2004-01-16</time></dd><dt>3rd Qu.</dt><dd><time datetime=\"2004-01-23\">2004-01-23</time></dd><dt>Max.</dt><dd><time datetime=\"2004-01-31\">2004-01-31</time></dd></dl>\n"
            ]
          },
          "metadata": {
            "tags": []
          }
        }
      ]
    },
    {
      "cell_type": "code",
      "metadata": {
        "colab": {
          "base_uri": "https://localhost:8080/",
          "height": 153
        },
        "id": "cjTkVKPl730M",
        "outputId": "49b292c5-8227-447c-b372-2e5d9875e0f9"
      },
      "source": [
        "# 2\n"
      ],
      "execution_count": null,
      "outputs": [
        {
          "output_type": "display_data",
          "data": {
            "text/plain": [
              "    TAIL_NUM    ORIGIN      DEST         CARRIER   \n",
              " N225DL :  65   BWI: 145   EWR: 665   DH     :551  \n",
              " N242DL :  56   DCA:1370   JFK: 386   RU     :408  \n",
              " N223DZ :  50   IAD: 686   LGA:1150   US     :404  \n",
              " N221DL :  45                         DL     :388  \n",
              " N241DL :  36                         MQ     :295  \n",
              " N722UW :  36                         CO     : 94  \n",
              " (Other):1913                         (Other): 61  "
            ]
          },
          "metadata": {
            "tags": []
          }
        }
      ]
    },
    {
      "cell_type": "code",
      "metadata": {
        "colab": {
          "base_uri": "https://localhost:8080/",
          "height": 190
        },
        "id": "vzIzYq8P733D",
        "outputId": "d6ae3026-81b9-49b4-cca5-06ba604b28ee"
      },
      "source": [
        "# 3\n"
      ],
      "execution_count": null,
      "outputs": [
        {
          "output_type": "display_data",
          "data": {
            "text/plain": [
              "  DAY_WEEK count\n",
              "1 1        84   \n",
              "2 5        75   \n",
              "3 7        68   "
            ],
            "text/latex": "A tibble: 3 × 2\n\\begin{tabular}{ll}\n DAY\\_WEEK & count\\\\\n <fct> & <int>\\\\\n\\hline\n\t 1 & 84\\\\\n\t 5 & 75\\\\\n\t 7 & 68\\\\\n\\end{tabular}\n",
            "text/markdown": "\nA tibble: 3 × 2\n\n| DAY_WEEK &lt;fct&gt; | count &lt;int&gt; |\n|---|---|\n| 1 | 84 |\n| 5 | 75 |\n| 7 | 68 |\n\n",
            "text/html": [
              "<table class=\"dataframe\">\n",
              "<caption>A tibble: 3 × 2</caption>\n",
              "<thead>\n",
              "\t<tr><th scope=col>DAY_WEEK</th><th scope=col>count</th></tr>\n",
              "\t<tr><th scope=col>&lt;fct&gt;</th><th scope=col>&lt;int&gt;</th></tr>\n",
              "</thead>\n",
              "<tbody>\n",
              "\t<tr><td>1</td><td>84</td></tr>\n",
              "\t<tr><td>5</td><td>75</td></tr>\n",
              "\t<tr><td>7</td><td>68</td></tr>\n",
              "</tbody>\n",
              "</table>\n"
            ]
          },
          "metadata": {
            "tags": []
          }
        }
      ]
    },
    {
      "cell_type": "code",
      "metadata": {
        "colab": {
          "base_uri": "https://localhost:8080/",
          "height": 190
        },
        "id": "1QrQriST735r",
        "outputId": "658b3e85-a6ff-459f-c163-fc4d9673548d"
      },
      "source": [
        "# 4\n"
      ],
      "execution_count": null,
      "outputs": [
        {
          "output_type": "display_data",
          "data": {
            "text/plain": [
              "  DEST count\n",
              "1 LGA  183  \n",
              "2 EWR  161  \n",
              "3 JFK   84  "
            ],
            "text/latex": "A tibble: 3 × 2\n\\begin{tabular}{ll}\n DEST & count\\\\\n <fct> & <int>\\\\\n\\hline\n\t LGA & 183\\\\\n\t EWR & 161\\\\\n\t JFK &  84\\\\\n\\end{tabular}\n",
            "text/markdown": "\nA tibble: 3 × 2\n\n| DEST &lt;fct&gt; | count &lt;int&gt; |\n|---|---|\n| LGA | 183 |\n| EWR | 161 |\n| JFK |  84 |\n\n",
            "text/html": [
              "<table class=\"dataframe\">\n",
              "<caption>A tibble: 3 × 2</caption>\n",
              "<thead>\n",
              "\t<tr><th scope=col>DEST</th><th scope=col>count</th></tr>\n",
              "\t<tr><th scope=col>&lt;fct&gt;</th><th scope=col>&lt;int&gt;</th></tr>\n",
              "</thead>\n",
              "<tbody>\n",
              "\t<tr><td>LGA</td><td>183</td></tr>\n",
              "\t<tr><td>EWR</td><td>161</td></tr>\n",
              "\t<tr><td>JFK</td><td> 84</td></tr>\n",
              "</tbody>\n",
              "</table>\n"
            ]
          },
          "metadata": {
            "tags": []
          }
        }
      ]
    },
    {
      "cell_type": "markdown",
      "metadata": {
        "id": "PNy5bphj738l"
      },
      "source": [
        "#### 2.6 check for missing or NA values "
      ]
    },
    {
      "cell_type": "code",
      "metadata": {
        "colab": {
          "base_uri": "https://localhost:8080/",
          "height": 17
        },
        "id": "q_ggBFxx-GhP",
        "outputId": "050f847e-d360-4a4e-821a-d70c47201ec6"
      },
      "source": [
        "# missing values\n"
      ],
      "execution_count": null,
      "outputs": [
        {
          "output_type": "display_data",
          "data": {
            "text/plain": [
              "integer(0)"
            ],
            "text/latex": "",
            "text/markdown": "",
            "text/html": [
              ""
            ]
          },
          "metadata": {
            "tags": []
          }
        }
      ]
    },
    {
      "cell_type": "markdown",
      "metadata": {
        "id": "uzNeg2FL-Gjt"
      },
      "source": [
        "#### 2.7 Graphical Exploration\n",
        "    \n",
        "\n",
        "1.   What percentage of flights are delayed\n",
        "2.   Which day of week sees most percentage delays    "
      ]
    },
    {
      "cell_type": "code",
      "metadata": {
        "colab": {
          "base_uri": "https://localhost:8080/",
          "height": 377
        },
        "id": "oeH8LaHM-GmI",
        "outputId": "59e604b8-e28e-4b78-c572-0e2bed504384"
      },
      "source": [
        "options(repr.plot.width=8, repr.plot.height=6) # if using colab or jupyter notebooks\n",
        "# 1\n"
      ],
      "execution_count": null,
      "outputs": [
        {
          "output_type": "display_data",
          "data": {
            "image/png": "[encoded data removed]",
            "text/plain": [
              "plot without title"
            ]
          },
          "metadata": {
            "tags": [],
            "image/png": {
              "width": 480,
              "height": 360
            }
          }
        }
      ]
    },
    {
      "cell_type": "code",
      "metadata": {
        "colab": {
          "base_uri": "https://localhost:8080/",
          "height": 377
        },
        "id": "SsMCQVhb-GoQ",
        "outputId": "c16cf5f5-efb5-4cce-dbaa-0291ae343484"
      },
      "source": [
        "# 2\n"
      ],
      "execution_count": null,
      "outputs": [
        {
          "output_type": "display_data",
          "data": {
            "image/png": "[encoded data removed]",
            "text/plain": [
              "plot without title"
            ]
          },
          "metadata": {
            "tags": [],
            "image/png": {
              "width": 480,
              "height": 360
            }
          }
        }
      ]
    },
    {
      "cell_type": "code",
      "metadata": {
        "id": "E7kC-UB5-GrW"
      },
      "source": [
        ""
      ],
      "execution_count": null,
      "outputs": []
    },
    {
      "cell_type": "markdown",
      "metadata": {
        "id": "t3cTK0g9_JZb"
      },
      "source": [
        "### Step-3: Further Prepare Your Data\n",
        "\n",
        "#### 3.1 De-duplication\n",
        "    \n",
        "> Note: duplicated(dataframe) gives boolean output\n",
        "\n",
        "\n",
        "> removal: df[!duplicated(df[c(\"col1\",\"col2\")]),]\n",
        "\n",
        "\n",
        "\n",
        "1.   use sum() function on duplicated(dataframe) to generate a count\n"
      ]
    },
    {
      "cell_type": "code",
      "metadata": {
        "colab": {
          "base_uri": "https://localhost:8080/",
          "height": 85
        },
        "id": "S2yW3nDj_JcH",
        "outputId": "509b0dcb-c95d-44fe-b35e-ebe136d363ac"
      },
      "source": [
        "# example for you\n",
        "x = c(0:8, 1:5, 3:7,  9:20)\n",
        "x\n",
        "\n",
        "duplicated(x)\n",
        "\n",
        "## extract unique elements\n",
        "(xu = x[!duplicated(x)])"
      ],
      "execution_count": null,
      "outputs": [
        {
          "output_type": "display_data",
          "data": {
            "text/plain": [
              " [1]  0  1  2  3  4  5  6  7  8  1  2  3  4  5  3  4  5  6  7  9 10 11 12 13 14\n",
              "[26] 15 16 17 18 19 20"
            ],
            "text/latex": "\\begin{enumerate*}\n\\item 0\n\\item 1\n\\item 2\n\\item 3\n\\item 4\n\\item 5\n\\item 6\n\\item 7\n\\item 8\n\\item 1\n\\item 2\n\\item 3\n\\item 4\n\\item 5\n\\item 3\n\\item 4\n\\item 5\n\\item 6\n\\item 7\n\\item 9\n\\item 10\n\\item 11\n\\item 12\n\\item 13\n\\item 14\n\\item 15\n\\item 16\n\\item 17\n\\item 18\n\\item 19\n\\item 20\n\\end{enumerate*}\n",
            "text/markdown": "1. 0\n2. 1\n3. 2\n4. 3\n5. 4\n6. 5\n7. 6\n8. 7\n9. 8\n10. 1\n11. 2\n12. 3\n13. 4\n14. 5\n15. 3\n16. 4\n17. 5\n18. 6\n19. 7\n20. 9\n21. 10\n22. 11\n23. 12\n24. 13\n25. 14\n26. 15\n27. 16\n28. 17\n29. 18\n30. 19\n31. 20\n\n\n",
            "text/html": [
              "<style>\n",
              ".list-inline {list-style: none; margin:0; padding: 0}\n",
              ".list-inline>li {display: inline-block}\n",
              ".list-inline>li:not(:last-child)::after {content: \"\\00b7\"; padding: 0 .5ex}\n",
              "</style>\n",
              "<ol class=list-inline><li>0</li><li>1</li><li>2</li><li>3</li><li>4</li><li>5</li><li>6</li><li>7</li><li>8</li><li>1</li><li>2</li><li>3</li><li>4</li><li>5</li><li>3</li><li>4</li><li>5</li><li>6</li><li>7</li><li>9</li><li>10</li><li>11</li><li>12</li><li>13</li><li>14</li><li>15</li><li>16</li><li>17</li><li>18</li><li>19</li><li>20</li></ol>\n"
            ]
          },
          "metadata": {
            "tags": []
          }
        },
        {
          "output_type": "display_data",
          "data": {
            "text/plain": [
              " [1] FALSE FALSE FALSE FALSE FALSE FALSE FALSE FALSE FALSE  TRUE  TRUE  TRUE\n",
              "[13]  TRUE  TRUE  TRUE  TRUE  TRUE  TRUE  TRUE FALSE FALSE FALSE FALSE FALSE\n",
              "[25] FALSE FALSE FALSE FALSE FALSE FALSE FALSE"
            ],
            "text/latex": "\\begin{enumerate*}\n\\item FALSE\n\\item FALSE\n\\item FALSE\n\\item FALSE\n\\item FALSE\n\\item FALSE\n\\item FALSE\n\\item FALSE\n\\item FALSE\n\\item TRUE\n\\item TRUE\n\\item TRUE\n\\item TRUE\n\\item TRUE\n\\item TRUE\n\\item TRUE\n\\item TRUE\n\\item TRUE\n\\item TRUE\n\\item FALSE\n\\item FALSE\n\\item FALSE\n\\item FALSE\n\\item FALSE\n\\item FALSE\n\\item FALSE\n\\item FALSE\n\\item FALSE\n\\item FALSE\n\\item FALSE\n\\item FALSE\n\\end{enumerate*}\n",
            "text/markdown": "1. FALSE\n2. FALSE\n3. FALSE\n4. FALSE\n5. FALSE\n6. FALSE\n7. FALSE\n8. FALSE\n9. FALSE\n10. TRUE\n11. TRUE\n12. TRUE\n13. TRUE\n14. TRUE\n15. TRUE\n16. TRUE\n17. TRUE\n18. TRUE\n19. TRUE\n20. FALSE\n21. FALSE\n22. FALSE\n23. FALSE\n24. FALSE\n25. FALSE\n26. FALSE\n27. FALSE\n28. FALSE\n29. FALSE\n30. FALSE\n31. FALSE\n\n\n",
            "text/html": [
              "<style>\n",
              ".list-inline {list-style: none; margin:0; padding: 0}\n",
              ".list-inline>li {display: inline-block}\n",
              ".list-inline>li:not(:last-child)::after {content: \"\\00b7\"; padding: 0 .5ex}\n",
              "</style>\n",
              "<ol class=list-inline><li>FALSE</li><li>FALSE</li><li>FALSE</li><li>FALSE</li><li>FALSE</li><li>FALSE</li><li>FALSE</li><li>FALSE</li><li>FALSE</li><li>TRUE</li><li>TRUE</li><li>TRUE</li><li>TRUE</li><li>TRUE</li><li>TRUE</li><li>TRUE</li><li>TRUE</li><li>TRUE</li><li>TRUE</li><li>FALSE</li><li>FALSE</li><li>FALSE</li><li>FALSE</li><li>FALSE</li><li>FALSE</li><li>FALSE</li><li>FALSE</li><li>FALSE</li><li>FALSE</li><li>FALSE</li><li>FALSE</li></ol>\n"
            ]
          },
          "metadata": {
            "tags": []
          }
        },
        {
          "output_type": "display_data",
          "data": {
            "text/plain": [
              "[1] 0"
            ],
            "text/latex": "0",
            "text/markdown": "0",
            "text/html": [
              "0"
            ]
          },
          "metadata": {
            "tags": []
          }
        },
        {
          "output_type": "display_data",
          "data": {
            "text/plain": [
              " [1]  0  1  2  3  4  5  6  7  8  9 10 11 12 13 14 15 16 17 18 19 20"
            ],
            "text/latex": "\\begin{enumerate*}\n\\item 0\n\\item 1\n\\item 2\n\\item 3\n\\item 4\n\\item 5\n\\item 6\n\\item 7\n\\item 8\n\\item 9\n\\item 10\n\\item 11\n\\item 12\n\\item 13\n\\item 14\n\\item 15\n\\item 16\n\\item 17\n\\item 18\n\\item 19\n\\item 20\n\\end{enumerate*}\n",
            "text/markdown": "1. 0\n2. 1\n3. 2\n4. 3\n5. 4\n6. 5\n7. 6\n8. 7\n9. 8\n10. 9\n11. 10\n12. 11\n13. 12\n14. 13\n15. 14\n16. 15\n17. 16\n18. 17\n19. 18\n20. 19\n21. 20\n\n\n",
            "text/html": [
              "<style>\n",
              ".list-inline {list-style: none; margin:0; padding: 0}\n",
              ".list-inline>li {display: inline-block}\n",
              ".list-inline>li:not(:last-child)::after {content: \"\\00b7\"; padding: 0 .5ex}\n",
              "</style>\n",
              "<ol class=list-inline><li>0</li><li>1</li><li>2</li><li>3</li><li>4</li><li>5</li><li>6</li><li>7</li><li>8</li><li>9</li><li>10</li><li>11</li><li>12</li><li>13</li><li>14</li><li>15</li><li>16</li><li>17</li><li>18</li><li>19</li><li>20</li></ol>\n"
            ]
          },
          "metadata": {
            "tags": []
          }
        }
      ]
    },
    {
      "cell_type": "code",
      "metadata": {
        "colab": {
          "base_uri": "https://localhost:8080/",
          "height": 34
        },
        "id": "x5Yrg_rK_Je7",
        "outputId": "64e5549c-30ce-4da9-86dd-ac1384887516"
      },
      "source": [
        "# 1\n",
        "# count the duplicates\n"
      ],
      "execution_count": null,
      "outputs": [
        {
          "output_type": "display_data",
          "data": {
            "text/plain": [
              "[1] 0"
            ],
            "text/latex": "0",
            "text/markdown": "0",
            "text/html": [
              "0"
            ]
          },
          "metadata": {
            "tags": []
          }
        }
      ]
    },
    {
      "cell_type": "markdown",
      "metadata": {
        "id": "C91tWl8b_Jhq"
      },
      "source": [
        "#### 3.2 Train and Test Split\n",
        "\n",
        "1.   Use 123 as seed value.\n",
        "1.   Split the dataset into ratio 7:3. call these slides train_set and test_set respectively.\n",
        "> 70% of the data is to train a model and 30% is to test\n"
      ]
    },
    {
      "cell_type": "code",
      "metadata": {
        "colab": {
          "base_uri": "https://localhost:8080/",
          "height": 85
        },
        "id": "Q5Z6Lppl_JkX",
        "outputId": "21d85723-95f3-46af-e0fe-74bf3c202866"
      },
      "source": [
        "#set initial seed\n",
        "\n",
        "\n",
        "# create a boolean flag to split data\n",
        "\n",
        "\n",
        "#split_data\n",
        "# create train and test datasets\n"
      ],
      "execution_count": null,
      "outputs": [
        {
          "output_type": "stream",
          "text": [
            "[1] \"train percentage: \"\n"
          ],
          "name": "stdout"
        },
        {
          "output_type": "display_data",
          "data": {
            "text/plain": [
              "[1] 0.7001363"
            ],
            "text/latex": "0.700136301681054",
            "text/markdown": "0.700136301681054",
            "text/html": [
              "0.700136301681054"
            ]
          },
          "metadata": {
            "tags": []
          }
        },
        {
          "output_type": "stream",
          "text": [
            "[1] \"test percentage: \"\n"
          ],
          "name": "stdout"
        },
        {
          "output_type": "display_data",
          "data": {
            "text/plain": [
              "[1] 0.2998637"
            ],
            "text/latex": "0.299863698318946",
            "text/markdown": "0.299863698318946",
            "text/html": [
              "0.299863698318946"
            ]
          },
          "metadata": {
            "tags": []
          }
        }
      ]
    },
    {
      "cell_type": "markdown",
      "metadata": {
        "id": "LRAAu9AS_JnO"
      },
      "source": [
        "#### Step-4: Model Your Data using GLM function\n",
        "\n",
        "\n",
        "> Do this after your class on Predictive modeling\n",
        "\n",
        "\n",
        "1.   Develop a predictive model to predict delay based on other predictors\n",
        "2.   Create the confusion matrix for both train and test and compare accuracy of your model on both\n",
        "\n",
        "\n",
        "\n"
      ]
    },
    {
      "cell_type": "code",
      "metadata": {
        "id": "wRl9gdmvCAK4"
      },
      "source": [
        ""
      ],
      "execution_count": null,
      "outputs": []
    }
  ]
}